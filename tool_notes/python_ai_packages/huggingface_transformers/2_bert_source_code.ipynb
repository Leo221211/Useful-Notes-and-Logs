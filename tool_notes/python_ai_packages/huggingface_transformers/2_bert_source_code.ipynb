{
 "cells": [
  {
   "cell_type": "markdown",
   "id": "4a46a074",
   "metadata": {},
   "source": [
    "Check how the internal source of BERT is organized\n",
    "\n",
    "see `python_ai_packages/huggingface_transformers/bert_sourcecodes/modeling_bert.py`, where there is `# (1)` ... "
   ]
  }
 ],
 "metadata": {
  "language_info": {
   "name": "python"
  }
 },
 "nbformat": 4,
 "nbformat_minor": 5
}
