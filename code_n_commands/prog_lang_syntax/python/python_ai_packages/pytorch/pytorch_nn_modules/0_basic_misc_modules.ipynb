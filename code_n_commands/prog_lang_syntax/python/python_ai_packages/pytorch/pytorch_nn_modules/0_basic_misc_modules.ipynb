{
 "cells": [
  {
   "cell_type": "markdown",
   "id": "934b5421",
   "metadata": {},
   "source": [
    "1. dropout  \n",
    "At training, will randomly zero-out some numbers in the input according to the dropout probability.  \n",
    "At testing, won't do anything"
   ]
  },
  {
   "cell_type": "code",
   "execution_count": null,
   "id": "2a613a62",
   "metadata": {},
   "outputs": [],
   "source": [
    "\"\"\"\n",
    "https://docs.pytorch.org/docs/stable/generated/torch.nn.Dropout.html\n",
    "\"\"\"\n",
    "m = nn.Dropout(p=0.2)\n",
    "input = torch.randn(20, 16)\n",
    "output = m(input)"
   ]
  }
 ],
 "metadata": {
  "kernelspec": {
   "display_name": "Python 3",
   "language": "python",
   "name": "python3"
  },
  "language_info": {
   "name": "python",
   "version": "3.11.9"
  }
 },
 "nbformat": 4,
 "nbformat_minor": 5
}
