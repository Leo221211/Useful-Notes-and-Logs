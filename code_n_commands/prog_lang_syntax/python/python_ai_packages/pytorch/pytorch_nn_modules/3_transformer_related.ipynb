{
 "cells": [
  {
   "cell_type": "markdown",
   "id": "076fb987",
   "metadata": {},
   "source": [
    "1. Transformer encoder"
   ]
  },
  {
   "cell_type": "code",
   "execution_count": null,
   "id": "b7e6dfb4",
   "metadata": {},
   "outputs": [],
   "source": [
    "\"\"\"\n",
    "https://docs.pytorch.org/docs/stable/generated/torch.nn.TransformerEncoderLayer.html\n",
    "\n",
    "1.\n",
    "    nn.TransformerEncoderLayer defines the detail of each transformer layer; \n",
    "    nn.TransformerEncoder combines layers together\n",
    "\"\"\"\n",
    "\n",
    "# sample use\n",
    "# 1) just use nn.TransformerEncoderLayer\n",
    "import torch\n",
    "encoder_layer = torch.nn.TransformerEncoderLayer(d_model=512, nhead=8, batch_first=True)\n",
    "src = torch.rand(32, 10, 512)       # [Batch, seq_len, feat_dim]    \n",
    "out = encoder_layer(src)            # [32, 10, 512]\n",
    "\n",
    "# 2) combine multiple layers\n",
    "transformer_encoder = nn.TransformerEncoder(encoder_layer, num_layers=4)\n",
    "src = torch.rand(32, 10, 512)       # [Batch, seq_len, feat_dim]    \n",
    "out = transformer_encoder(src)      # [32, 10, 512]"
   ]
  }
 ],
 "metadata": {
  "language_info": {
   "name": "python"
  }
 },
 "nbformat": 4,
 "nbformat_minor": 5
}
