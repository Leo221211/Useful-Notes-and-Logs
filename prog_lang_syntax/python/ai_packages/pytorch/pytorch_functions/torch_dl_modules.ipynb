{
 "cells": [
  {
   "cell_type": "markdown",
   "id": "14e6e059",
   "metadata": {},
   "source": [
    "### 1. convolution\n",
    "\n",
    "#### 1.1. 1D convolution"
   ]
  },
  {
   "cell_type": "code",
   "execution_count": null,
   "id": "1615e245",
   "metadata": {},
   "outputs": [],
   "source": [
    "self.conv_oh_2 = nn.Conv1d(in_channels=4, out_channels=1, kernel_size=kernel_size_oh,\n",
    "                                       padding=(kernel_size_oh - 1) // 2)\n",
    "x_oh = F.relu(self.conv_oh_2(x_oh))\n",
    "\n",
    "'''\n",
    "shape of x_oh from [B, 4, L] to [B, 1, L], where B, L can be any and won't cause problem\n",
    "The convolution is done on the L dimension (dim=2), and the channels are the dim=1 \n",
    "    (in_channels=4, out_channels=1)\n",
    "'''"
   ]
  },
  {
   "cell_type": "markdown",
   "id": "9cddead4",
   "metadata": {},
   "source": []
  }
 ],
 "metadata": {
  "kernelspec": {
   "display_name": "base",
   "language": "python",
   "name": "python3"
  },
  "language_info": {
   "name": "python",
   "version": "3.11.9"
  }
 },
 "nbformat": 4,
 "nbformat_minor": 5
}
