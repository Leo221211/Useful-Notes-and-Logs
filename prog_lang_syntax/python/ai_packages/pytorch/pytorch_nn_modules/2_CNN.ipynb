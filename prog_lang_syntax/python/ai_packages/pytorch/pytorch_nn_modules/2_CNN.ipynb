{
 "cells": [
  {
   "cell_type": "markdown",
   "id": "ebdd8677",
   "metadata": {},
   "source": [
    "1. conv1d\n",
    "   "
   ]
  },
  {
   "cell_type": "code",
   "execution_count": null,
   "id": "76c44575",
   "metadata": {},
   "outputs": [],
   "source": [
    "\"\"\"\n",
    "https://docs.pytorch.org/docs/stable/generated/torch.nn.Conv1d.html\n",
    "\n",
    "The input is expected to be with shape (batch_size, feat_dim [i.e. num channel], seq_len).\n",
    "Do convolution along the seq, num_channel changes along with the number of kernels\n",
    "\"\"\"\n",
    "\n",
    "'''\n",
    "eg\n",
    "shape of x_oh from [B, 4, L] to [B, 1, L], where B, L can be any and won't cause problem\n",
    "The convolution is done on the L dimension (dim=2), and the channels are the dim=1 \n",
    "    (in_channels=4, out_channels=1)\n",
    "'''\n",
    "\n",
    "self.conv_oh_2 = nn.Conv1d(in_channels=4, out_channels=1, kernel_size=kernel_size_oh,\n",
    "                                       padding=(kernel_size_oh - 1) // 2)\n",
    "x_oh = F.relu(self.conv_oh_2(x_oh))\n"
   ]
  }
 ],
 "metadata": {
  "language_info": {
   "name": "python"
  }
 },
 "nbformat": 4,
 "nbformat_minor": 5
}
